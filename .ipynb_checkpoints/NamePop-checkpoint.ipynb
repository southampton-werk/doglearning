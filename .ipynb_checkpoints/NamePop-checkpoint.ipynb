{
 "cells": [
  {
   "cell_type": "code",
   "execution_count": 2,
   "metadata": {},
   "outputs": [],
   "source": [
    "import pandas as pd\n",
    "import numpy as np\n",
    "breeds = pd.read_csv('breed_labels.csv')\n",
    "colors = pd.read_csv('color_labels.csv')\n",
    "train = pd.read_csv('train.csv')\n",
    "test = pd.read_csv('test.csv')\n",
    "sub = pd.read_csv('sample_submission.csv')\n",
    "states = pd.read_csv('state_labels.csv')\n",
    "\n",
    "# train['dataset_type'] = 'train'\n",
    "# test['dataset_type'] = 'test'\n",
    "\n"
   ]
  },
  {
   "cell_type": "code",
   "execution_count": 3,
   "metadata": {},
   "outputs": [],
   "source": [
    "\n",
    "def nameCounts(row,nameCounter):\n",
    "    try:\n",
    "        return nameCounter[str(row['Name'])]\n",
    "    except:\n",
    "        return 0\n",
    "\n",
    "nameCounter = train['Name'].value_counts()\n",
    "\n",
    "nameCounter['Baby'] = 0\n",
    "nameCounter['No Name'] = 0\n",
    "nameCounter['baby'] = 0\n",
    "nameCounter['Kitty'] = 0\n",
    "nameCounter['Kittens'] = 0\n",
    "nameCounter['Puppies'] = 0\n",
    "nameCounter['No Name Yet'] = 0\n",
    "nameCounter['Puppies For Adoption'] = 0\n",
    "nameCounter['6 Puppies'] = 0\n",
    "nameCounter['Boy'] = 0\n",
    "nameCounter['Girl'] = 0\n",
    "\n",
    "train['NameCounts'] = train.apply(lambda row: nameCounts(row,nameCounter), axis=1)\n",
    "\n"
   ]
  },
  {
   "cell_type": "code",
   "execution_count": 4,
   "metadata": {},
   "outputs": [],
   "source": [
    "import csv\n",
    "\n",
    "\n",
    "cfeatures = 0\n",
    "import csv\n",
    "\n",
    "with open('features.csv','r') as csvinput:\n",
    "    with open('featureshold.csv', 'w') as csvoutput:\n",
    "        writer = csv.writer(csvoutput, lineterminator='\\n')\n",
    "        reader = csv.reader(csvinput)\n",
    "\n",
    "        all = []\n",
    "        row = next(reader)\n",
    "        row.append('NameCounts')\n",
    "        all.append(row)\n",
    "        \n",
    "        counter = 0\n",
    "        for row in reader:\n",
    "            row.append(train['NameCounts'][counter])\n",
    "            all.append(row)\n",
    "            counter += 1\n",
    "\n",
    "        writer.writerows(all)\n",
    "        \n",
    "        \n",
    "   "
   ]
  },
  {
   "cell_type": "code",
   "execution_count": 27,
   "metadata": {},
   "outputs": [
    {
     "data": {
      "text/plain": [
       "Oyen                    17\n",
       "Lulu                    17\n",
       "Bailey                  17\n",
       "Teddy                   17\n",
       "Coffee                  17\n",
       "Jojo                    16\n",
       "Boy                      0\n",
       "Pepper                  16\n",
       "Cutie                   16\n",
       "Putih                   15\n",
       "Milky                   15\n",
       "Mocha                   15\n",
       "Unknown                 15\n",
       "Jack                    14\n",
       "Goldie                  14\n",
       "Grey                    14\n",
       "Girl                     0\n",
       "Oren                    13\n",
       "Phoebe                  13\n",
       "Candy                   13\n",
       "Whitey                  13\n",
       "Snoopy                  13\n",
       "Tiny                    12\n",
       "Hazel                   12\n",
       "Sophie                  12\n",
       "Beauty                  12\n",
       "Sunny                   12\n",
       "Patches                 12\n",
       "Bambi                   12\n",
       "Spotty                  12\n",
       "Dolly                   12\n",
       "Sam                     12\n",
       "Lilo                    12\n",
       "Mochi                   11\n",
       "Lady                    11\n",
       "Puppies For Adoption     0\n",
       "Joey                    11\n",
       "Orange                  11\n",
       "Harry                   11\n",
       "Jackie                  11\n",
       "Miko                    11\n",
       "Choco                   11\n",
       "Jerry                   11\n",
       "Ben                     11\n",
       "Abby                    11\n",
       "Poppy                   11\n",
       "Nana                    11\n",
       "Xiao Bai                11\n",
       "Browny                  11\n",
       "Missy                   10\n",
       "Name: Name, dtype: int64"
      ]
     },
     "execution_count": 27,
     "metadata": {},
     "output_type": "execute_result"
    }
   ],
   "source": [
    "nameCounter[50:100]"
   ]
  },
  {
   "cell_type": "code",
   "execution_count": null,
   "metadata": {},
   "outputs": [],
   "source": [
    "count0 = train.loc[train['AdoptionSpeed'] == 0]\n",
    "count1 = train.loc[train['AdoptionSpeed'] == 1]\n",
    "count2 = train.loc[train['AdoptionSpeed'] == 2]\n",
    "count3 = train.loc[train['AdoptionSpeed'] == 3]\n",
    "count4 = train.loc[train['AdoptionSpeed'] == 4]\n",
    "\n",
    "\n",
    "\n",
    "\n",
    "count1['Name'].value_counts()"
   ]
  }
 ],
 "metadata": {
  "kernelspec": {
   "display_name": "Python 3",
   "language": "python",
   "name": "python3"
  },
  "language_info": {
   "codemirror_mode": {
    "name": "ipython",
    "version": 3
   },
   "file_extension": ".py",
   "mimetype": "text/x-python",
   "name": "python",
   "nbconvert_exporter": "python",
   "pygments_lexer": "ipython3",
   "version": "3.7.3"
  }
 },
 "nbformat": 4,
 "nbformat_minor": 2
}
