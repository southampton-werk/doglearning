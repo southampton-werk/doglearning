{
 "cells": [
  {
   "cell_type": "code",
   "execution_count": 27,
   "metadata": {},
   "outputs": [],
   "source": [
    "import pandas as pd\n",
    "import numpy as np\n",
    "breeds = pd.read_csv('breed_labels.csv')\n",
    "colors = pd.read_csv('color_labels.csv')\n",
    "train = pd.read_csv('train.csv').dropna()\n",
    "test = pd.read_csv('test.csv')\n",
    "sub = pd.read_csv('sample_submission.csv')\n",
    "states = pd.read_csv('state_labels.csv')\n",
    "\n",
    "# train['dataset_type'] = 'train'\n",
    "# test['dataset_type'] = 'test'"
   ]
  },
  {
   "cell_type": "code",
   "execution_count": 32,
   "metadata": {},
   "outputs": [
    {
     "data": {
      "text/html": [
       "<div>\n",
       "<style scoped>\n",
       "    .dataframe tbody tr th:only-of-type {\n",
       "        vertical-align: middle;\n",
       "    }\n",
       "\n",
       "    .dataframe tbody tr th {\n",
       "        vertical-align: top;\n",
       "    }\n",
       "\n",
       "    .dataframe thead th {\n",
       "        text-align: right;\n",
       "    }\n",
       "</style>\n",
       "<table border=\"1\" class=\"dataframe\">\n",
       "  <thead>\n",
       "    <tr style=\"text-align: right;\">\n",
       "      <th></th>\n",
       "      <th>Type</th>\n",
       "      <th>Name</th>\n",
       "      <th>Age</th>\n",
       "      <th>Breed1</th>\n",
       "      <th>Breed2</th>\n",
       "      <th>Gender</th>\n",
       "      <th>Color1</th>\n",
       "      <th>Color2</th>\n",
       "      <th>Color3</th>\n",
       "      <th>MaturitySize</th>\n",
       "      <th>...</th>\n",
       "      <th>Quantity</th>\n",
       "      <th>Fee</th>\n",
       "      <th>State</th>\n",
       "      <th>RescuerID</th>\n",
       "      <th>VideoAmt</th>\n",
       "      <th>Description</th>\n",
       "      <th>PetID</th>\n",
       "      <th>PhotoAmt</th>\n",
       "      <th>NameCounts</th>\n",
       "      <th>AdoptionSpeed</th>\n",
       "    </tr>\n",
       "  </thead>\n",
       "  <tbody>\n",
       "    <tr>\n",
       "      <th>0</th>\n",
       "      <td>2</td>\n",
       "      <td>Nibble</td>\n",
       "      <td>3</td>\n",
       "      <td>299</td>\n",
       "      <td>0</td>\n",
       "      <td>1</td>\n",
       "      <td>1</td>\n",
       "      <td>7</td>\n",
       "      <td>0</td>\n",
       "      <td>1</td>\n",
       "      <td>...</td>\n",
       "      <td>1</td>\n",
       "      <td>100</td>\n",
       "      <td>41326</td>\n",
       "      <td>8480853f516546f6cf33aa88cd76c379</td>\n",
       "      <td>0</td>\n",
       "      <td>Nibble is a 3+ month old ball of cuteness. He ...</td>\n",
       "      <td>86e1089a3</td>\n",
       "      <td>1.0</td>\n",
       "      <td>2</td>\n",
       "      <td>1</td>\n",
       "    </tr>\n",
       "    <tr>\n",
       "      <th>1</th>\n",
       "      <td>2</td>\n",
       "      <td>No Name Yet</td>\n",
       "      <td>1</td>\n",
       "      <td>265</td>\n",
       "      <td>0</td>\n",
       "      <td>1</td>\n",
       "      <td>1</td>\n",
       "      <td>2</td>\n",
       "      <td>0</td>\n",
       "      <td>2</td>\n",
       "      <td>...</td>\n",
       "      <td>1</td>\n",
       "      <td>0</td>\n",
       "      <td>41401</td>\n",
       "      <td>3082c7125d8fb66f7dd4bff4192c8b14</td>\n",
       "      <td>0</td>\n",
       "      <td>I just found it alone yesterday near my apartm...</td>\n",
       "      <td>6296e909a</td>\n",
       "      <td>2.0</td>\n",
       "      <td>0</td>\n",
       "      <td>22</td>\n",
       "    </tr>\n",
       "    <tr>\n",
       "      <th>2</th>\n",
       "      <td>1</td>\n",
       "      <td>Brisco</td>\n",
       "      <td>1</td>\n",
       "      <td>307</td>\n",
       "      <td>0</td>\n",
       "      <td>1</td>\n",
       "      <td>2</td>\n",
       "      <td>7</td>\n",
       "      <td>0</td>\n",
       "      <td>2</td>\n",
       "      <td>...</td>\n",
       "      <td>1</td>\n",
       "      <td>0</td>\n",
       "      <td>41326</td>\n",
       "      <td>fa90fa5b1ee11c86938398b60abc32cb</td>\n",
       "      <td>0</td>\n",
       "      <td>Their pregnant mother was dumped by her irresp...</td>\n",
       "      <td>3422e4906</td>\n",
       "      <td>7.0</td>\n",
       "      <td>3</td>\n",
       "      <td>1</td>\n",
       "    </tr>\n",
       "  </tbody>\n",
       "</table>\n",
       "<p>3 rows × 25 columns</p>\n",
       "</div>"
      ],
      "text/plain": [
       "   Type         Name  Age  Breed1  Breed2  Gender  Color1  Color2  Color3  \\\n",
       "0     2       Nibble    3     299       0       1       1       7       0   \n",
       "1     2  No Name Yet    1     265       0       1       1       2       0   \n",
       "2     1       Brisco    1     307       0       1       2       7       0   \n",
       "\n",
       "   MaturitySize  ...  Quantity  Fee  State                         RescuerID  \\\n",
       "0             1  ...         1  100  41326  8480853f516546f6cf33aa88cd76c379   \n",
       "1             2  ...         1    0  41401  3082c7125d8fb66f7dd4bff4192c8b14   \n",
       "2             2  ...         1    0  41326  fa90fa5b1ee11c86938398b60abc32cb   \n",
       "\n",
       "   VideoAmt                                        Description      PetID  \\\n",
       "0         0  Nibble is a 3+ month old ball of cuteness. He ...  86e1089a3   \n",
       "1         0  I just found it alone yesterday near my apartm...  6296e909a   \n",
       "2         0  Their pregnant mother was dumped by her irresp...  3422e4906   \n",
       "\n",
       "   PhotoAmt NameCounts  AdoptionSpeed  \n",
       "0       1.0          2              1  \n",
       "1       2.0          0             22  \n",
       "2       7.0          3              1  \n",
       "\n",
       "[3 rows x 25 columns]"
      ]
     },
     "execution_count": 32,
     "metadata": {},
     "output_type": "execute_result"
    }
   ],
   "source": [
    "train.head(3)"
   ]
  },
  {
   "cell_type": "code",
   "execution_count": 30,
   "metadata": {},
   "outputs": [],
   "source": [
    "import matplotlib.pyplot as plt\n",
    "%matplotlib inline\n",
    "plt.style.use('ggplot')\n"
   ]
  },
  {
   "cell_type": "code",
   "execution_count": 31,
   "metadata": {},
   "outputs": [],
   "source": [
    "\n",
    "def nameCounts(row,nameCounter):\n",
    "    return nameCounter[str(row['Name'])]\n",
    "\n",
    "nameCounter = train['Name'].value_counts()\n",
    "train['NameCounts'] = train.apply(lambda row: nameCounts(row,nameCounter), axis=1)\n",
    "\n",
    "col_list = list(train)\n",
    "col_list[-1], col_list[-2] = col_list[-2], col_list[-1]\n",
    "# assign back, the order will now be swapped\n",
    "df.ix[:,col_list]\n",
    "\n"
   ]
  },
  {
   "cell_type": "code",
   "execution_count": 17,
   "metadata": {},
   "outputs": [
    {
     "data": {
      "text/plain": [
       "Lucky                           5\n",
       "Bobby                           4\n",
       "No Name                         3\n",
       "Jojo                            3\n",
       "Milo                            3\n",
       "Mimi                            3\n",
       "Daisy                           2\n",
       "Molly                           2\n",
       "Black                           2\n",
       "Coco                            2\n",
       "Shih Tzu                        2\n",
       "Sweety                          2\n",
       "Coffee                          2\n",
       "Browny                          2\n",
       "Rocky                           2\n",
       "Baby                            2\n",
       "Puteh                           2\n",
       "Tompok                          2\n",
       "Snowy                           2\n",
       "Tiger                           2\n",
       "Mickey                          2\n",
       "Anonymous                       1\n",
       "Three Little Kittens - Tabby    1\n",
       "Sushi                           1\n",
       "æ å­å¦¹                       1\n",
       "Josephine                       1\n",
       "Sleepy                          1\n",
       "Yuri Seraphin                   1\n",
       "Hiker                           1\n",
       "Mo-Joe                          1\n",
       "                               ..\n",
       "Sudin                           1\n",
       "Zebra                           1\n",
       "BWee                            1\n",
       "W8                              1\n",
       "Tobby                           1\n",
       "Whitey                          1\n",
       "Tyler                           1\n",
       "Star                            1\n",
       "Christi                         1\n",
       "Mochi                           1\n",
       "Shadow                          1\n",
       "Delete This Folder              1\n",
       "Cap                             1\n",
       "3 Male 1 Female For Adoption    1\n",
       "B                               1\n",
       "Snowball & Kipper               1\n",
       "Pepper                          1\n",
       "Petit Tom                       1\n",
       "Mittens                         1\n",
       "Mio                             1\n",
       "Happy                           1\n",
       "Sugar Pops                      1\n",
       "Snooze                          1\n",
       "Ruffles                         1\n",
       "Bi Bi                           1\n",
       "Chanelle                        1\n",
       "Dalmation                       1\n",
       "Happy, Yippy, Bipy              1\n",
       "Stray Mother And Kittens        1\n",
       "Mixed Colour Kittens            1\n",
       "Name: Name, Length: 354, dtype: int64"
      ]
     },
     "execution_count": 17,
     "metadata": {},
     "output_type": "execute_result"
    }
   ],
   "source": [
    "count0 = train.loc[train['AdoptionSpeed'] == 0]\n",
    "count1 = train.loc[train['AdoptionSpeed'] == 1]\n",
    "count2 = train.loc[train['AdoptionSpeed'] == 2]\n",
    "count3 = train.loc[train['AdoptionSpeed'] == 3]\n",
    "count4 = train.loc[train['AdoptionSpeed'] == 4]\n",
    "\n",
    "\n",
    "\n",
    "\n",
    "count0['Name'].value_counts()\n",
    "\n",
    "\n",
    "\n"
   ]
  },
  {
   "cell_type": "code",
   "execution_count": 26,
   "metadata": {},
   "outputs": [
    {
     "name": "stderr",
     "output_type": "stream",
     "text": [
      "/usr/local/lib/python3.7/dist-packages/xgboost/core.py:587: FutureWarning: Series.base is deprecated and will be removed in a future version\n",
      "  if getattr(data, 'base', None) is not None and \\\n",
      "/usr/local/lib/python3.7/dist-packages/xgboost/core.py:588: FutureWarning: Series.base is deprecated and will be removed in a future version\n",
      "  data.base is not None and isinstance(data, np.ndarray) \\\n"
     ]
    },
    {
     "data": {
      "image/png": "[encoded data removed]",
      "text/plain": [
       "<Figure size 432x288 with 1 Axes>"
      ]
     },
     "metadata": {},
     "output_type": "display_data"
    }
   ],
   "source": [
    "import xgboost as xgb\n",
    "from sklearn.metrics import mean_squared_error\n",
    "from sklearn.preprocessing import OneHotEncoder\n",
    "\n",
    "\n",
    "train, y = train.iloc[:,:-1],train.iloc[:,-1]\n",
    "\n",
    "\n",
    "train = train.drop('Name',axis = 1)\n",
    "train = train.drop('Description',axis = 1)\n",
    "train = train.drop('PetID',axis = 1)\n",
    "train = train.drop('RescuerID',axis = 1)\n",
    "\n",
    "X = train\n",
    "data_dmatrix = xgb.DMatrix(data=X,label=y)\n",
    "from sklearn.model_selection import train_test_split\n",
    "\n",
    "X_train, X_test, y_train, y_test = train_test_split(X, y, test_size=0.2, random_state=123)\n",
    "xg_reg = xgb.XGBRegressor(objective ='reg:linear', colsample_bytree = 0.3, learning_rate = 0.1,\n",
    "                max_depth = 5, alpha = 10, n_estimators = 10)\n",
    "xg_reg.fit(X_train,y_train)\n",
    "\n",
    "preds = xg_reg.predict(X_test)\n",
    "import matplotlib.pyplot as plt \n",
    "xgb.plot_importance(xg_reg)\n",
    "plt.rcParams['figure.figsize'] = [5, 5]\n",
    "plt.show()\n",
    "\n"
   ]
  },
  {
   "cell_type": "code",
   "execution_count": 6,
   "metadata": {},
   "outputs": [
    {
     "data": {
      "text/plain": [
       "(array([1.410e+02, 1.983e+03, 3.160e+03, 1.801e+03, 1.038e+03, 5.690e+02,\n",
       "        5.190e+02, 2.680e+02, 2.940e+02, 1.760e+02, 1.540e+02, 9.100e+01,\n",
       "        9.060e+02, 3.800e+01, 7.300e+01, 7.800e+01, 4.600e+01, 6.300e+01,\n",
       "        1.610e+02, 2.400e+01, 3.000e+01, 2.500e+01, 1.900e+01, 8.000e+00,\n",
       "        5.990e+02, 9.000e+00, 1.300e+01, 1.600e+01, 1.300e+01, 2.400e+01,\n",
       "        5.200e+01, 8.000e+00, 1.400e+01, 4.000e+00, 5.000e+00, 3.000e+00,\n",
       "        3.890e+02, 7.000e+00, 8.000e+00, 7.000e+00, 1.000e+00, 1.000e+01,\n",
       "        2.100e+01, 1.000e+00, 1.000e+00, 2.000e+00, 4.000e+00, 2.000e+00,\n",
       "        2.290e+02, 5.000e+00, 8.000e+00, 7.000e+00, 4.000e+00, 8.000e+00,\n",
       "        1.500e+01, 6.000e+00, 3.000e+00, 1.000e+00, 0.000e+00]),\n",
       " array([ 0,  1,  2,  3,  4,  5,  6,  7,  8,  9, 10, 11, 12, 13, 14, 15, 16,\n",
       "        17, 18, 19, 20, 21, 22, 23, 24, 25, 26, 27, 28, 29, 30, 31, 32, 33,\n",
       "        34, 35, 36, 37, 38, 39, 40, 41, 42, 43, 44, 45, 46, 47, 48, 49, 50,\n",
       "        51, 52, 53, 54, 55, 56, 57, 58, 59]),\n",
       " <a list of 59 Patch objects>)"
      ]
     },
     "execution_count": 6,
     "metadata": {},
     "output_type": "execute_result"
    },
    {
     "data": {
      "image/png": "[encoded data removed]",
      "text/plain": [
       "<Figure size 432x288 with 1 Axes>"
      ]
     },
     "metadata": {
      "needs_background": "light"
     },
     "output_type": "display_data"
    }
   ],
   "source": [
    "train['AdoptionSpeed'].value_counts().sort_index().plot('barh')\n",
    "plt.title('Adoption speed classes comparison');\n",
    "plt.hist(train['Age'],bins=list(range(0,60,1)))\n",
    "    "
   ]
  },
  {
   "cell_type": "code",
   "execution_count": 7,
   "metadata": {},
   "outputs": [
    {
     "data": {
      "text/plain": [
       "(array([1.410e+02, 1.983e+03, 3.160e+03, 1.801e+03, 1.038e+03, 5.690e+02,\n",
       "        5.190e+02, 2.680e+02, 2.940e+02, 1.760e+02, 1.540e+02, 9.100e+01,\n",
       "        9.060e+02, 3.800e+01, 7.300e+01, 7.800e+01, 4.600e+01, 6.300e+01,\n",
       "        1.610e+02, 2.400e+01, 3.000e+01, 2.500e+01, 1.900e+01, 8.000e+00,\n",
       "        5.990e+02, 9.000e+00, 1.300e+01, 1.600e+01, 1.300e+01, 2.400e+01,\n",
       "        5.200e+01, 8.000e+00, 1.400e+01, 4.000e+00, 5.000e+00, 3.000e+00,\n",
       "        3.890e+02, 7.000e+00, 8.000e+00, 7.000e+00, 1.000e+00, 1.000e+01,\n",
       "        2.100e+01, 1.000e+00, 1.000e+00, 2.000e+00, 4.000e+00, 2.000e+00,\n",
       "        2.290e+02, 5.000e+00, 8.000e+00, 7.000e+00, 4.000e+00, 8.000e+00,\n",
       "        1.500e+01, 6.000e+00, 3.000e+00, 1.000e+00, 0.000e+00]),\n",
       " array([ 0,  1,  2,  3,  4,  5,  6,  7,  8,  9, 10, 11, 12, 13, 14, 15, 16,\n",
       "        17, 18, 19, 20, 21, 22, 23, 24, 25, 26, 27, 28, 29, 30, 31, 32, 33,\n",
       "        34, 35, 36, 37, 38, 39, 40, 41, 42, 43, 44, 45, 46, 47, 48, 49, 50,\n",
       "        51, 52, 53, 54, 55, 56, 57, 58, 59]),\n",
       " <a list of 59 Patch objects>)"
      ]
     },
     "execution_count": 7,
     "metadata": {},
     "output_type": "execute_result"
    },
    {
     "data": {
      "image/png": "[encoded data removed]",
      "text/plain": [
       "<Figure size 432x288 with 1 Axes>"
      ]
     },
     "metadata": {
      "needs_background": "light"
     },
     "output_type": "display_data"
    }
   ],
   "source": [
    "plt.hist(train['Age'],bins=list(range(0,60,1)))"
   ]
  },
  {
   "cell_type": "code",
   "execution_count": null,
   "metadata": {},
   "outputs": [],
   "source": []
  },
  {
   "cell_type": "code",
   "execution_count": null,
   "metadata": {},
   "outputs": [],
   "source": []
  },
  {
   "cell_type": "code",
   "execution_count": null,
   "metadata": {},
   "outputs": [],
   "source": []
  }
 ],
 "metadata": {
  "kernelspec": {
   "display_name": "Python 3",
   "language": "python",
   "name": "python3"
  },
  "language_info": {
   "codemirror_mode": {
    "name": "ipython",
    "version": 3
   },
   "file_extension": ".py",
   "mimetype": "text/x-python",
   "name": "python",
   "nbconvert_exporter": "python",
   "pygments_lexer": "ipython3",
   "version": "3.7.3"
  }
 },
 "nbformat": 4,
 "nbformat_minor": 2
}
