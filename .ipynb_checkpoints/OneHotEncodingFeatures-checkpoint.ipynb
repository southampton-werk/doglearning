{
 "cells": [
  {
   "cell_type": "code",
   "execution_count": 22,
   "metadata": {},
   "outputs": [],
   "source": [
    "import pandas as pd\n",
    "import numpy as np\n",
    "breeds = pd.read_csv('breed_labels.csv')\n",
    "colors = pd.read_csv('color_labels.csv')\n",
    "train = pd.read_csv('train.csv')\n",
    "test = pd.read_csv('test.csv')\n",
    "sub = pd.read_csv('sample_submission.csv')\n",
    "states = pd.read_csv('state_labels.csv')"
   ]
  },
  {
   "cell_type": "code",
   "execution_count": 25,
   "metadata": {},
   "outputs": [],
   "source": [
    "breed1dummies = pd.get_dummies(train['Breed1'],prefix=\"Breed1\")\n",
    "statedummies = pd.get_dummies(train['State'],prefix=\"State\")"
   ]
  },
  {
   "cell_type": "code",
   "execution_count": 26,
   "metadata": {},
   "outputs": [],
   "source": [
    "import csv\n",
    "\n",
    "with open('features.csv','r') as csvinput:\n",
    "    with open('features2.csv', 'w') as csvoutput:\n",
    "        writer = csv.writer(csvoutput, lineterminator='\\n')\n",
    "        reader = csv.reader(csvinput)\n",
    "\n",
    "        all = []\n",
    "        row = next(reader)\n",
    "      \n",
    "        \n",
    "        \n",
    "        for breedcols in breed1dummies:\n",
    "            row.append(breedcols)\n",
    "        for statecols in statedummies: \n",
    "            row.append(statecols)\n",
    "        all.append(row)\n",
    "        \n",
    "        counter = 0\n",
    "        for row in reader:\n",
    "            adder = train['NameCounts'][counter]\n",
    "            row.append(adder)\n",
    "            if(adder == 0):\n",
    "                row.append(0)\n",
    "            else:\n",
    "                row.append(1)\n",
    "            all.append(row)\n",
    "            counter += 1\n",
    "\n",
    "        writer.writerows(all)\n",
    "\n",
    "        \n",
    "with open('features2.csv','r') as csvinput:\n",
    "    with open('features.csv', 'w') as csvoutput:\n",
    "        writer = csv.writer(csvoutput, lineterminator='\\n')\n",
    "        reader = csv.reader(csvinput)\n",
    "        all = []\n",
    "        row = next(reader)\n",
    "        all.append(row)\n",
    "        for row in reader:\n",
    "            all.append(row)\n",
    "        writer.writerows(all)\n",
    "\n"
   ]
  },
  {
   "cell_type": "code",
   "execution_count": null,
   "metadata": {},
   "outputs": [],
   "source": []
  }
 ],
 "metadata": {
  "kernelspec": {
   "display_name": "Python 3",
   "language": "python",
   "name": "python3"
  },
  "language_info": {
   "codemirror_mode": {
    "name": "ipython",
    "version": 3
   },
   "file_extension": ".py",
   "mimetype": "text/x-python",
   "name": "python",
   "nbconvert_exporter": "python",
   "pygments_lexer": "ipython3",
   "version": "3.7.3"
  }
 },
 "nbformat": 4,
 "nbformat_minor": 2
}
