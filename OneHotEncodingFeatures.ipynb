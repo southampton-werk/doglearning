{
 "cells": [
  {
   "cell_type": "code",
   "execution_count": 32,
   "metadata": {},
   "outputs": [],
   "source": [
    "import pandas as pd\n",
    "import numpy as np\n",
    "breeds = pd.read_csv('breed_labels.csv')\n",
    "colors = pd.read_csv('color_labels.csv')\n",
    "train = pd.read_csv('train.csv')\n",
    "test = pd.read_csv('test.csv')\n",
    "sub = pd.read_csv('sample_submission.csv')\n",
    "states = pd.read_csv('state_labels.csv')"
   ]
  },
  {
   "cell_type": "code",
   "execution_count": 33,
   "metadata": {},
   "outputs": [],
   "source": [
    "breed1dummies = pd.get_dummies(train['Breed1'],prefix=\"Breed1\")\n",
    "statedummies = pd.get_dummies(train['State'],prefix=\"State\")"
   ]
  },
  {
   "cell_type": "code",
   "execution_count": 49,
   "metadata": {},
   "outputs": [],
   "source": [
    "import csv\n",
    "\n",
    "with open('features.csv','r') as csvinput:\n",
    "    with open('features2.csv', 'w') as csvoutput:\n",
    "        writer = csv.writer(csvoutput, lineterminator='\\n')\n",
    "        reader = csv.reader(csvinput)\n",
    "        all = []\n",
    "        row = next(reader)\n",
    "        for breedcols in breed1dummies:\n",
    "            row.append(breedcols)\n",
    "        for statecols in statedummies: \n",
    "            row.append(statecols)\n",
    "        all.append(row)\n",
    "        \n",
    "        counter = 0\n",
    "        for row in reader:\n",
    "            for i in range(len(breed1dummies.columns)):\n",
    "                row.append(breed1dummies.iloc[counter,i])\n",
    "            for i in range(len(statedummies.columns)):\n",
    "                row.append(statedummies.iloc[counter,i])\n",
    "            counter += 1\n",
    "            all.append(row)\n",
    "        writer.writerows(all)\n",
    "\n",
    "\n",
    "\n"
   ]
  },
  {
   "cell_type": "code",
   "execution_count": null,
   "metadata": {},
   "outputs": [],
   "source": [
    "len(breed1dummies.columns)"
   ]
  },
  {
   "cell_type": "code",
   "execution_count": null,
   "metadata": {},
   "outputs": [],
   "source": []
  }
 ],
 "metadata": {
  "kernelspec": {
   "display_name": "Python 3",
   "language": "python",
   "name": "python3"
  },
  "language_info": {
   "codemirror_mode": {
    "name": "ipython",
    "version": 3
   },
   "file_extension": ".py",
   "mimetype": "text/x-python",
   "name": "python",
   "nbconvert_exporter": "python",
   "pygments_lexer": "ipython3",
   "version": "3.7.3"
  }
 },
 "nbformat": 4,
 "nbformat_minor": 2
}
